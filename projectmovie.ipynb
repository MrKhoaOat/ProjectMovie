{
 "cells": [
  {
   "cell_type": "code",
   "execution_count": 1,
   "id": "f0ab3b90",
   "metadata": {
    "_cell_guid": "b1076dfc-b9ad-4769-8c92-a6c4dae69d19",
    "_uuid": "8f2839f25d086af736a60e9eeb907d3b93b6e0e5",
    "execution": {
     "iopub.execute_input": "2024-02-16T11:49:19.072909Z",
     "iopub.status.busy": "2024-02-16T11:49:19.072464Z",
     "iopub.status.idle": "2024-02-16T11:49:20.155645Z",
     "shell.execute_reply": "2024-02-16T11:49:20.154414Z"
    },
    "papermill": {
     "duration": 1.090979,
     "end_time": "2024-02-16T11:49:20.158410",
     "exception": false,
     "start_time": "2024-02-16T11:49:19.067431",
     "status": "completed"
    },
    "tags": []
   },
   "outputs": [
    {
     "name": "stdout",
     "output_type": "stream",
     "text": [
      "/kaggle/input/tmdb-movie-metadata/tmdb_5000_movies.csv\n",
      "/kaggle/input/tmdb-movie-metadata/tmdb_5000_credits.csv\n"
     ]
    }
   ],
   "source": [
    "# This Python 3 environment comes with many helpful analytics libraries installed\n",
    "# It is defined by the kaggle/python Docker image: https://github.com/kaggle/docker-python\n",
    "# For example, here's several helpful packages to load\n",
    "\n",
    "import numpy as np # linear algebra\n",
    "import pandas as pd # data processing, CSV file I/O (e.g. pd.read_csv)\n",
    "\n",
    "# Input data files are available in the read-only \"../input/\" directory\n",
    "# For example, running this (by clicking run or pressing Shift+Enter) will list all files under the input directory\n",
    "\n",
    "import os\n",
    "for dirname, _, filenames in os.walk('/kaggle/input'):\n",
    "    for filename in filenames:\n",
    "        print(os.path.join(dirname, filename))\n",
    "\n",
    "# You can write up to 20GB to the current directory (/kaggle/working/) that gets preserved as output when you create a version using \"Save & Run All\" \n",
    "# You can also write temporary files to /kaggle/temp/, but they won't be saved outside of the current session"
   ]
  },
  {
   "cell_type": "code",
   "execution_count": 2,
   "id": "57438a8e",
   "metadata": {
    "execution": {
     "iopub.execute_input": "2024-02-16T11:49:20.165921Z",
     "iopub.status.busy": "2024-02-16T11:49:20.165399Z",
     "iopub.status.idle": "2024-02-16T11:49:20.328852Z",
     "shell.execute_reply": "2024-02-16T11:49:20.327799Z"
    },
    "papermill": {
     "duration": 0.170126,
     "end_time": "2024-02-16T11:49:20.331559",
     "exception": false,
     "start_time": "2024-02-16T11:49:20.161433",
     "status": "completed"
    },
    "tags": []
   },
   "outputs": [],
   "source": [
    "titles_df = pd.read_csv('/kaggle/input/tmdb-movie-metadata/tmdb_5000_movies.csv', usecols=['id','original_title','genres','revenue','runtime',])"
   ]
  },
  {
   "cell_type": "code",
   "execution_count": 3,
   "id": "36ee6f34",
   "metadata": {
    "execution": {
     "iopub.execute_input": "2024-02-16T11:49:20.339770Z",
     "iopub.status.busy": "2024-02-16T11:49:20.339086Z",
     "iopub.status.idle": "2024-02-16T11:49:20.361097Z",
     "shell.execute_reply": "2024-02-16T11:49:20.359890Z"
    },
    "papermill": {
     "duration": 0.029071,
     "end_time": "2024-02-16T11:49:20.363732",
     "exception": false,
     "start_time": "2024-02-16T11:49:20.334661",
     "status": "completed"
    },
    "tags": []
   },
   "outputs": [
    {
     "name": "stdout",
     "output_type": "stream",
     "text": [
      "                                                 genres      id  \\\n",
      "0     [{\"id\": 28, \"name\": \"Action\"}, {\"id\": 12, \"nam...   19995   \n",
      "1     [{\"id\": 12, \"name\": \"Adventure\"}, {\"id\": 14, \"...     285   \n",
      "2     [{\"id\": 28, \"name\": \"Action\"}, {\"id\": 12, \"nam...  206647   \n",
      "3     [{\"id\": 28, \"name\": \"Action\"}, {\"id\": 80, \"nam...   49026   \n",
      "4     [{\"id\": 28, \"name\": \"Action\"}, {\"id\": 12, \"nam...   49529   \n",
      "...                                                 ...     ...   \n",
      "4798  [{\"id\": 28, \"name\": \"Action\"}, {\"id\": 80, \"nam...    9367   \n",
      "4799  [{\"id\": 35, \"name\": \"Comedy\"}, {\"id\": 10749, \"...   72766   \n",
      "4800  [{\"id\": 35, \"name\": \"Comedy\"}, {\"id\": 18, \"nam...  231617   \n",
      "4801                                                 []  126186   \n",
      "4802                [{\"id\": 99, \"name\": \"Documentary\"}]   25975   \n",
      "\n",
      "                                original_title     revenue  runtime  \n",
      "0                                       Avatar  2787965087    162.0  \n",
      "1     Pirates of the Caribbean: At World's End   961000000    169.0  \n",
      "2                                      Spectre   880674609    148.0  \n",
      "3                        The Dark Knight Rises  1084939099    165.0  \n",
      "4                                  John Carter   284139100    132.0  \n",
      "...                                        ...         ...      ...  \n",
      "4798                               El Mariachi     2040920     81.0  \n",
      "4799                                 Newlyweds           0     85.0  \n",
      "4800                 Signed, Sealed, Delivered           0    120.0  \n",
      "4801                          Shanghai Calling           0     98.0  \n",
      "4802                         My Date with Drew           0     90.0  \n",
      "\n",
      "[4803 rows x 5 columns]\n"
     ]
    }
   ],
   "source": [
    "print(titles_df)"
   ]
  },
  {
   "cell_type": "code",
   "execution_count": null,
   "id": "23f780a5",
   "metadata": {
    "papermill": {
     "duration": 0.002505,
     "end_time": "2024-02-16T11:49:20.369129",
     "exception": false,
     "start_time": "2024-02-16T11:49:20.366624",
     "status": "completed"
    },
    "tags": []
   },
   "outputs": [],
   "source": []
  }
 ],
 "metadata": {
  "kaggle": {
   "accelerator": "none",
   "dataSources": [
    {
     "datasetId": 138,
     "sourceId": 4508,
     "sourceType": "datasetVersion"
    }
   ],
   "dockerImageVersionId": 30646,
   "isGpuEnabled": false,
   "isInternetEnabled": false,
   "language": "python",
   "sourceType": "notebook"
  },
  "kernelspec": {
   "display_name": "Python 3",
   "language": "python",
   "name": "python3"
  },
  "language_info": {
   "codemirror_mode": {
    "name": "ipython",
    "version": 3
   },
   "file_extension": ".py",
   "mimetype": "text/x-python",
   "name": "python",
   "nbconvert_exporter": "python",
   "pygments_lexer": "ipython3",
   "version": "3.10.13"
  },
  "papermill": {
   "default_parameters": {},
   "duration": 5.573774,
   "end_time": "2024-02-16T11:49:20.895403",
   "environment_variables": {},
   "exception": null,
   "input_path": "__notebook__.ipynb",
   "output_path": "__notebook__.ipynb",
   "parameters": {},
   "start_time": "2024-02-16T11:49:15.321629",
   "version": "2.5.0"
  }
 },
 "nbformat": 4,
 "nbformat_minor": 5
}
